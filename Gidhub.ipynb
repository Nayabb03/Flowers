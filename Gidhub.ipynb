{
 "cells": [
  {
   "cell_type": "markdown",
   "id": "f8c35b75-8314-478b-b4e0-6717979b00c4",
   "metadata": {},
   "source": [
    "1) it helps with storing sharing and collaborating code, making it easy to track changes\n",
    "2) Version Control tracks changes in files making it easy track progress and to compare versions since it keeps the history of all edits and updates\n",
    "3) In a group project it would be helpful to manage collaborations providing a place for everyone to work on the same code while keeping it organized as well as keeping track of everyones progress, everyone can work on different parts of the project to then combine it when ready"
   ]
  }
 ],
 "metadata": {
  "kernelspec": {
   "display_name": "Python 3 (ipykernel)",
   "language": "python",
   "name": "python3"
  },
  "language_info": {
   "codemirror_mode": {
    "name": "ipython",
    "version": 3
   },
   "file_extension": ".py",
   "mimetype": "text/x-python",
   "name": "python",
   "nbconvert_exporter": "python",
   "pygments_lexer": "ipython3",
   "version": "3.12.5"
  }
 },
 "nbformat": 4,
 "nbformat_minor": 5
}
